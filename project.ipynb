{
 "cells": [
  {
   "cell_type": "code",
   "execution_count": 1,
   "metadata": {},
   "outputs": [
    {
     "name": "stderr",
     "output_type": "stream",
     "text": [
      "Using TensorFlow backend.\n"
     ]
    }
   ],
   "source": [
    "import sklearn\n",
    "\n",
    "import numpy as np\n",
    "import pandas as pd\n",
    "import matplotlib.pyplot as plt\n",
    "import seaborn as sns\n",
    "\n",
    "from sklearn import model_selection\n",
    "from sklearn.linear_model import LogisticRegression\n",
    "from sklearn import metrics\n",
    "from sklearn.model_selection import StratifiedKFold\n",
    "\n",
    "from keras.utils.vis_utils import plot_model\n",
    "from keras_radam import RAdam\n",
    "\n",
    "from helpers import*"
   ]
  },
  {
   "cell_type": "markdown",
   "metadata": {},
   "source": [
    "## Loading the dataset "
   ]
  },
  {
   "cell_type": "code",
   "execution_count": 2,
   "metadata": {},
   "outputs": [],
   "source": [
    "data = pd.read_csv('datasets/bank-additional-full.csv', sep=';')"
   ]
  },
  {
   "cell_type": "markdown",
   "metadata": {},
   "source": [
    "# Neural Network"
   ]
  },
  {
   "cell_type": "code",
   "execution_count": null,
   "metadata": {},
   "outputs": [],
   "source": [
    "def run_benchmark(data, activation = 'selu', N_spec = 25):\n",
    "    list_optimzers = ['adam', 'sgd', RAdam()]\n",
    "    spects = np.linspace(0.5,0.99,N_spec)\n",
    "    \n",
    "    sgd_f1 = []\n",
    "    adam_f1 = []\n",
    "    radam_f1 = []\n",
    "    \n",
    "    sgd_precision = []\n",
    "    adam_precision = []\n",
    "    radam_precision = []\n",
    "    \n",
    "    sgd_recall = []\n",
    "    adam_recall = []\n",
    "    radam_recall = []\n",
    "    \n",
    "    for spect in spects:\n",
    "        one_hot_enc = build_spectrum (data,do_spectrum = True ,spect = spect)\n",
    "        X = one_hot_enc.drop(columns=['y'])\n",
    "        y = one_hot_enc['y']\n",
    "        X, y= build_keras (X,y)\n",
    "        for l in list_optimzers:\n",
    "            # define 10-fold cross validation test harness\n",
    "            if l==RAdam():\n",
    "                kfold = StratifiedKFold(n_splits=15, shuffle=True, random_state=1)\n",
    "            else:\n",
    "                kfold = StratifiedKFold(n_splits=5, shuffle=True, random_state=1)\n",
    "            cvscores_f1 = []\n",
    "            cvscores_precision = []\n",
    "            cvscores_recall = []\n",
    "            for train, test in kfold.split(X, y):\n",
    "                model = build_model(activation)\n",
    "                model.compile(loss='binary_crossentropy', optimizer=l, metrics=[f1_m,precision_m, recall_m])\n",
    "                model.fit(X[train], y[train], epochs=20, batch_size=128, verbose=0)\n",
    "                # evaluate the model\n",
    "                scores = model.evaluate(X[test], y[test], verbose=0)\n",
    "                cvscores_f1.append(scores[1])\n",
    "                cvscores_precision.append(scores[2])\n",
    "                cvscores_recall.append(scores[3])\n",
    "            f1_score = np.mean(cvscores_f1)\n",
    "            precision = np.mean(cvscores_precision)\n",
    "            recall = np.mean(cvscores_recall)\n",
    "            print (\"F1-Score:\", f1_score, \"Precision:\", precision, \"Recall:\", recall, sep='\\n')\n",
    "            \n",
    "            if l == 'adam':\n",
    "                adam_f1.append(f1_score)\n",
    "                adam_precision.append(precision)\n",
    "                adam_recall.append(recall)\n",
    "                \n",
    "            elif l == 'sgd':\n",
    "                sgd_f1.append(f1_score)\n",
    "                sgd_precision.append(precision)\n",
    "                sgd_recall.append(recall)\n",
    "            else:\n",
    "                radam_f1.append(f1_score)\n",
    "                radam_precision.append(precision)\n",
    "                radam_recall.append(recall)\n",
    "    return spects, sgd_f1, sgd_precision, sgd_recall, adam_f1, adam_precision, adam_recall, radam_f1, radam_precision, radam_recall"
   ]
  },
  {
   "cell_type": "markdown",
   "metadata": {},
   "source": [
    "# Results\n"
   ]
  },
  {
   "cell_type": "markdown",
   "metadata": {},
   "source": [
    "**SELU activation**"
   ]
  },
  {
   "cell_type": "code",
   "execution_count": null,
   "metadata": {},
   "outputs": [],
   "source": [
    "spects, sgd_f1, sgd_precision, sgd_recall, adam_f1, adam_precision, adam_recall, radam_f1, radam_precision, radam_recall = run_benchmark(data)"
   ]
  },
  {
   "cell_type": "code",
   "execution_count": null,
   "metadata": {},
   "outputs": [],
   "source": [
    "plt.style.use('seaborn-whitegrid')\n",
    "plt.plot(spects, sgd_f1, label='SGD')\n",
    "plt.plot(spects, adam_f1, label='Adam')\n",
    "plt.plot(spects, radam_f1, label='RAdam')\n",
    "plt.xlabel('Balance of the data set[-]')\n",
    "plt.ylabel('F1 Score[-]')\n",
    "plt.title('F1 Score against spectrum balance with SELU')\n",
    "plt.legend(loc='upper right')\n",
    "plt.savefig('figures/f1-spect-SELU.png')"
   ]
  },
  {
   "cell_type": "code",
   "execution_count": null,
   "metadata": {},
   "outputs": [],
   "source": [
    "plt.style.use('seaborn-whitegrid')\n",
    "plt.plot(spects, sgd_recall, label='SGD')\n",
    "plt.plot(spects, adam_recall, label='Adam')\n",
    "plt.plot(spects, radam_recall, label='RAdam')\n",
    "plt.xlabel('Balance of the data set[-]')\n",
    "plt.ylabel('Recall[-]')\n",
    "plt.title('Recall against spectrum balance with SELU')\n",
    "plt.legend(loc='upper right')\n",
    "plt.savefig('figures/recall-spect-SELU.png')"
   ]
  },
  {
   "cell_type": "code",
   "execution_count": null,
   "metadata": {},
   "outputs": [],
   "source": [
    "plt.style.use('seaborn-whitegrid')\n",
    "plt.plot(spects, sgd_precision, label='SGD')\n",
    "plt.plot(spects, adam_precision, label='Adam')\n",
    "plt.plot(spects, radam_precision, label='RAdam')\n",
    "plt.xlabel('Balance of the data set[-]')\n",
    "plt.ylabel('Precision[-]')\n",
    "plt.title('Precision against spectrum balance with SELU')\n",
    "plt.legend(loc='upper right')\n",
    "plt.savefig('figures/precision-spect-SELU.png')"
   ]
  },
  {
   "cell_type": "markdown",
   "metadata": {},
   "source": [
    "**Tanh activation**"
   ]
  },
  {
   "cell_type": "code",
   "execution_count": null,
   "metadata": {},
   "outputs": [],
   "source": [
    "spects, sgd_f1, sgd_precision, sgd_recall, adam_f1, adam_precision, adam_recall, radam_f1, radam_precision, radam_recall = run_benchmark(data, activation = 'tanh')"
   ]
  },
  {
   "cell_type": "code",
   "execution_count": null,
   "metadata": {},
   "outputs": [],
   "source": [
    "plt.style.use('seaborn-whitegrid')\n",
    "plt.plot(spects, sgd_f1, label='SGD')\n",
    "plt.plot(spects, adam_f1, label='Adam')\n",
    "plt.plot(spects, radam_f1, label='RAdam')\n",
    "plt.xlabel('Balance of the data set[-]')\n",
    "plt.ylabel('F1 Score[-]')\n",
    "plt.title('F1 Score against spectrum balance with TANH')\n",
    "plt.legend(loc='upper right')\n",
    "plt.savefig('figures/f1-spect-TANH.png')"
   ]
  },
  {
   "cell_type": "code",
   "execution_count": null,
   "metadata": {},
   "outputs": [],
   "source": [
    "plt.style.use('seaborn-whitegrid')\n",
    "plt.plot(spects, sgd_recall, label='SGD')\n",
    "plt.plot(spects, adam_recall, label='Adam')\n",
    "plt.plot(spects, radam_recall, label='RAdam')\n",
    "plt.xlabel('Balance of the data set[-]')\n",
    "plt.title('Recall against spectrum balance with TANH')\n",
    "plt.ylabel('Recall[-]')\n",
    "plt.legend(loc='upper right')\n",
    "plt.savefig('figures/recall-spect-TANH.png')"
   ]
  },
  {
   "cell_type": "code",
   "execution_count": null,
   "metadata": {},
   "outputs": [],
   "source": [
    "plt.style.use('seaborn-whitegrid')\n",
    "plt.plot(spects, sgd_precision, label='SGD')\n",
    "plt.plot(spects, adam_precision, label='Adam')\n",
    "plt.plot(spects, radam_precision, label='RAdam')\n",
    "plt.xlabel('Balance of the data set[-]')\n",
    "plt.ylabel('Precision[-]')\n",
    "plt.title('Precision against spectrum balance with TANH')\n",
    "plt.legend(loc='upper right')\n",
    "plt.savefig('figures/precision-spect-TANH.png')"
   ]
  },
  {
   "cell_type": "markdown",
   "metadata": {},
   "source": [
    "# Training and test effect"
   ]
  },
  {
   "cell_type": "code",
   "execution_count": 72,
   "metadata": {},
   "outputs": [],
   "source": [
    "def run_training_benchmarking(data, epochs = 50):\n",
    "    list_optimzers = ['adam', 'sgd', RAdam()]\n",
    "    \n",
    "    adam_val_loss = []\n",
    "    radam_val_loss = []\n",
    "    sgd_val_loss = []\n",
    "    \n",
    "    \n",
    "    one_hot_enc = build_spectrum (data)\n",
    "\n",
    "    X = one_hot_enc.drop(columns=['y'])\n",
    "    y = one_hot_enc['y']\n",
    "    x_keras, y_keras = build_keras (X,y)\n",
    "\n",
    "    for l in list_optimzers:\n",
    "        if l==RAdam():\n",
    "            kfold = StratifiedKFold(n_splits=15, shuffle=True, random_state=1)\n",
    "        else:\n",
    "            kfold = StratifiedKFold(n_splits=5, shuffle=True, random_state=1)\n",
    "        for train, test in kfold.split(x_keras, y_keras):\n",
    "            model = build_model(activation='selu')\n",
    "            model.compile(loss='binary_crossentropy', optimizer=l, metrics=[precision_m])\n",
    "            history = model.fit(x_keras[train], y_keras[train], epochs=epochs, batch_size=128,\n",
    "                    validation_data=(x_keras[test], y_keras[test]), verbose = 0)\n",
    "\n",
    "            if l == 'adam':\n",
    "                adam_val_loss.append(history.history['val_loss'])\n",
    "\n",
    "            elif l == 'sgd':\n",
    "                sgd_val_loss.append(history.history['val_loss'])\n",
    "            else:\n",
    "                radam_val_loss.append(history.history['val_loss'])\n",
    "            \n",
    "    return sgd_val_loss, radam_val_loss,adam_val_loss\n",
    "                "
   ]
  },
  {
   "cell_type": "code",
   "execution_count": null,
   "metadata": {},
   "outputs": [
    {
     "name": "stdout",
     "output_type": "stream",
     "text": [
      "Fraction of No :\n",
      "0.8873458288821987\n",
      "Fraction of Yes :\n",
      "0.11265417111780131\n"
     ]
    }
   ],
   "source": [
    "sgd_val_loss, radam_val_loss, adam_val_loss = run_training_benchmarking(data)"
   ]
  },
  {
   "cell_type": "code",
   "execution_count": null,
   "metadata": {},
   "outputs": [],
   "source": [
    "radam_val_loss"
   ]
  },
  {
   "cell_type": "markdown",
   "metadata": {},
   "source": [
    "# Results"
   ]
  },
  {
   "cell_type": "code",
   "execution_count": null,
   "metadata": {},
   "outputs": [],
   "source": [
    "plt.style.use('seaborn-whitegrid')\n",
    "plt.plot(np.array(adam_val_loss).mean(axis=0), label='Adam')\n",
    "plt.plot(np.array(radam_val_loss).mean(axis=0), label='RAdam')\n",
    "plt.plot(np.array(sgd_val_loss).mean(axis=0), label='SGD')\n",
    "plt.xlabel('Epochs[-]')\n",
    "plt.ylabel('Loss[-]')\n",
    "plt.title('Validation loss against epochs')\n",
    "plt.legend(loc='lower right', frameon = True)\n",
    "plt.savefig('figures/loss-epochs.png')"
   ]
  }
 ],
 "metadata": {
  "kernelspec": {
   "display_name": "Python 3",
   "language": "python",
   "name": "python3"
  },
  "language_info": {
   "codemirror_mode": {
    "name": "ipython",
    "version": 3
   },
   "file_extension": ".py",
   "mimetype": "text/x-python",
   "name": "python",
   "nbconvert_exporter": "python",
   "pygments_lexer": "ipython3",
   "version": "3.7.6"
  }
 },
 "nbformat": 4,
 "nbformat_minor": 4
}
