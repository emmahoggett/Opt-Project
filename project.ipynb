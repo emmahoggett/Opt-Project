{
 "cells": [
  {
   "cell_type": "code",
   "execution_count": 36,
   "metadata": {},
   "outputs": [],
   "source": [
    "import sklearn\n",
    "\n",
    "import numpy as np\n",
    "import pandas as pd\n",
    "import matplotlib.pyplot as plt\n",
    "import seaborn as sns\n",
    "\n",
    "\n",
    "from sklearn import model_selection\n",
    "from sklearn.linear_model import LogisticRegression\n",
    "from sklearn import metrics\n",
    "from sklearn.model_selection import StratifiedKFold\n",
    "from sklearn import preprocessing\n",
    "\n",
    "from keras.optimizers import SGD, Adam, Nadam\n",
    "from sklearn.model_selection import train_test_split\n",
    "\n",
    "from keras.utils.vis_utils import plot_model\n",
    "from keras_radam import RAdam\n",
    "\n",
    "from helpers import*"
   ]
  },
  {
   "cell_type": "code",
   "execution_count": 8,
   "metadata": {},
   "outputs": [],
   "source": [
    "import os\n",
    "os.environ['TF_KERAS'] = '1'\n",
    "os.environ['KERAS_BACKEND'] =  'theano'"
   ]
  },
  {
   "cell_type": "markdown",
   "metadata": {},
   "source": [
    "## Loading the dataset "
   ]
  },
  {
   "cell_type": "code",
   "execution_count": 37,
   "metadata": {},
   "outputs": [],
   "source": [
    "data = pd.read_csv('datasets/bank-additional-full.csv', sep=';')"
   ]
  },
  {
   "cell_type": "markdown",
   "metadata": {},
   "source": [
    "# Neural Network"
   ]
  },
  {
   "cell_type": "code",
   "execution_count": 38,
   "metadata": {},
   "outputs": [],
   "source": [
    "def run_benchmark(data, activation = 'selu', N_spec = 25):\n",
    "    list_optimzers = ['adam', 'sgd', 'nadam']\n",
    "    spects = np.linspace(0.5,0.99,N_spec)\n",
    "    \n",
    "    sgd_f1 = []\n",
    "    adam_f1 = []\n",
    "    nadam_f1 = []\n",
    "    \n",
    "    sgd_accuracy = []\n",
    "    adam_accuracy = []\n",
    "    nadam_accuracy = []\n",
    "    \n",
    "    for spect in spects:\n",
    "        one_hot_enc = build_spectrum (data,do_spectrum = True ,spect = spect)\n",
    "        X = one_hot_enc.drop(columns=['y'])\n",
    "        y = one_hot_enc['y']\n",
    "        X, y= build_keras (X,y)\n",
    "        for l in list_optimzers:\n",
    "            if l=='adam':\n",
    "                print('[INFO] Using Adam')\n",
    "                opt = Adam(lr=1e-3)\n",
    "            \n",
    "            elif l == 'nadam':\n",
    "                print('[INFO] Using Adam with Nesterov momentum')\n",
    "                opt = NAdam()\n",
    "            else:\n",
    "                print('[INFO] Using SGD')\n",
    "                opt = SGD()\n",
    "                \n",
    "            kfold = StratifiedKFold(n_splits=5, shuffle=True, random_state=1)\n",
    "                \n",
    "            \n",
    "            cvscores_f1 = []\n",
    "            cvscores_accuracy= []\n",
    "            for train, test in kfold.split(X, y):\n",
    "                model = build_model(activation)\n",
    "                model.compile(loss='binary_crossentropy', optimizer=opt, metrics=[f1_m,'accuracy'])\n",
    "                model.fit(X[train], y[train], epochs=20, batch_size=128, verbose=0)\n",
    "                # evaluate the model\n",
    "                scores = model.evaluate(X[test], y[test], verbose=0)\n",
    "                cvscores_f1.append(scores[1])\n",
    "                cvscores_accuracy.append(scores[2])\n",
    "            f1_score = np.mean(cvscores_f1)\n",
    "            accuracy = np.mean(cvscores_accuracy)\n",
    "            print (\"F1-Score:\", f1_score, \"Accuracy:\", accuracy, sep='\\n')\n",
    "            \n",
    "            if l == 'adam':\n",
    "                adam_f1.append(f1_score)\n",
    "                adam_accuracy.append(accuracy)\n",
    "                \n",
    "            elif l == 'sgd':\n",
    "                sgd_f1.append(f1_score)\n",
    "                sgd_accuracy.append(accuracy)\n",
    "            else:\n",
    "                nadam_f1.append(f1_score)\n",
    "                nadam_accuracy.append(accuracy)\n",
    "                \n",
    "    return spects, sgd_f1, sgd_accuracy, adam_f1, adam_accuracy, nadam_f1,nadam_accuracy"
   ]
  },
  {
   "cell_type": "markdown",
   "metadata": {},
   "source": [
    "# Results\n"
   ]
  },
  {
   "cell_type": "code",
   "execution_count": null,
   "metadata": {},
   "outputs": [
    {
     "name": "stdout",
     "output_type": "stream",
     "text": [
      "[INFO] Using Adam\n",
      "F1-Score:\n",
      "0.39184213280677793\n",
      "Accuracy:\n",
      "0.7260775923728943\n",
      "[INFO] Using SGD\n"
     ]
    }
   ],
   "source": [
    "spects, sgd_f1, sgd_accuracy, adam_f1, adam_accuracy, nadam_f1,nadam_accuracy= run_benchmark(data)"
   ]
  },
  {
   "cell_type": "code",
   "execution_count": null,
   "metadata": {},
   "outputs": [],
   "source": [
    "plt.style.use('seaborn-whitegrid')\n",
    "plt.plot(spects, sgd_f1, label='SGD')\n",
    "plt.plot(spects, adam_f1, label='Adam')\n",
    "plt.plot(spects, nadam_f1, label='NAdam')\n",
    "plt.xlabel('Balance of the data set[-]')\n",
    "plt.ylabel('F1 Score[-]')\n",
    "plt.title('F1 Score against spectrum balance')\n",
    "plt.legend(loc='upper right')\n",
    "plt.savefig('figures/f1-spect.png')"
   ]
  },
  {
   "cell_type": "code",
   "execution_count": null,
   "metadata": {},
   "outputs": [],
   "source": [
    "plt.style.use('seaborn-whitegrid')\n",
    "plt.plot(spects, sgd_accuracy, label='SGD')\n",
    "plt.plot(spects, adam_accuracy, label='Adam')\n",
    "plt.plot(spects, nadam_accuracy, label='NAdam')\n",
    "plt.xlabel('Balance of the data set[-]')\n",
    "plt.ylabel('Accuracy[-]')\n",
    "plt.title('Accuracy against spectrum balance')\n",
    "plt.legend(loc='lower left')\n",
    "plt.savefig('figures/accuracy-spect.png')"
   ]
  },
  {
   "cell_type": "markdown",
   "metadata": {},
   "source": [
    "# Training and test effect"
   ]
  },
  {
   "cell_type": "code",
   "execution_count": 33,
   "metadata": {},
   "outputs": [],
   "source": [
    "def run_training_benchmarking(data, epochs = 50):\n",
    "    list_optimzers = ['nadam','adam', 'sgd']\n",
    "    \n",
    "    \n",
    "    adam_val_f1 = []\n",
    "    nadam_val_f1 = []\n",
    "    sgd_val_f1 = []\n",
    "    \n",
    "    \n",
    "    X = build_spectrum (data)\n",
    "    train, test= train_test_split(X, test_size=0.2, stratify = X['y'], random_state=1)\n",
    "    x_train, y_train = build_keras (train.drop(columns=['y']),train['y'])\n",
    "    x_test, y_test = build_keras (test.drop(columns=['y']),test['y'])\n",
    "\n",
    "    for l in list_optimzers:\n",
    "        if l=='adam':\n",
    "            print('[INFO] Using Adam')\n",
    "            opt = Adam(lr=1e-3)\n",
    "            \n",
    "        elif l == 'nadam':\n",
    "            print('[INFO] Using Adam with Nesterov momentum')\n",
    "            opt= Nadam()\n",
    "        else:\n",
    "            print('[INFO] Using SGD')\n",
    "            opt = SGD(lr=0.01)\n",
    "            \n",
    "        model = build_model(activation='tanh')\n",
    "        model.compile(loss='binary_crossentropy', optimizer=opt, metrics=[f1_m])\n",
    "        history = model.fit(x_train, y_train, epochs=epochs, batch_size=128,\n",
    "                validation_data=(x_test, y_test), verbose = 0)\n",
    "\n",
    "        if l == 'adam':\n",
    "            adam_val_f1 = history.history['val_f1_m']\n",
    "\n",
    "        elif l == 'sgd':\n",
    "            sgd_val_f1 = history.history['val_f1_m']\n",
    "        else:\n",
    "            nadam_val_f1 = history.history['val_f1_m']\n",
    "            \n",
    "    return sgd_val_f1,adam_val_f1, nadam_val_f1\n",
    "                "
   ]
  },
  {
   "cell_type": "code",
   "execution_count": 34,
   "metadata": {},
   "outputs": [
    {
     "name": "stdout",
     "output_type": "stream",
     "text": [
      "[INFO] Using Adam with Nesterov momentum\n",
      "[INFO] Using Adam\n",
      "[INFO] Using SGD\n"
     ]
    }
   ],
   "source": [
    "sgd_val_f1, adam_val_f1, nadam_val_f1 = run_training_benchmarking(data)"
   ]
  },
  {
   "cell_type": "markdown",
   "metadata": {},
   "source": [
    "# Results"
   ]
  },
  {
   "cell_type": "code",
   "execution_count": 35,
   "metadata": {},
   "outputs": [
    {
     "data": {
      "image/png": "[encoded data removed]",
      "text/plain": [
       "<Figure size 432x288 with 1 Axes>"
      ]
     },
     "metadata": {},
     "output_type": "display_data"
    }
   ],
   "source": [
    "plt.style.use('seaborn-whitegrid')\n",
    "plt.plot(adam_val_f1, label='Adam')\n",
    "plt.plot(nadam_val_f1, label='NAdam')\n",
    "plt.plot(sgd_val_f1, label='SGD')\n",
    "plt.xlabel('Epochs[-]')\n",
    "plt.ylabel('F1-Score[-]')\n",
    "plt.title('Validation F1-Score against epochs')\n",
    "plt.legend(loc='lower right', frameon = True)\n",
    "plt.savefig('figures/f1-epochs.png')"
   ]
  }
 ],
 "metadata": {
  "kernelspec": {
   "display_name": "Python 3",
   "language": "python",
   "name": "python3"
  },
  "language_info": {
   "codemirror_mode": {
    "name": "ipython",
    "version": 3
   },
   "file_extension": ".py",
   "mimetype": "text/x-python",
   "name": "python",
   "nbconvert_exporter": "python",
   "pygments_lexer": "ipython3",
   "version": "3.7.6"
  }
 },
 "nbformat": 4,
 "nbformat_minor": 4
}
