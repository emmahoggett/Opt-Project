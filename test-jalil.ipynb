{
 "cells": [
  {
   "cell_type": "markdown",
   "metadata": {},
   "source": [
    "# Preprocessing"
   ]
  },
  {
   "cell_type": "code",
   "execution_count": 1,
   "metadata": {},
   "outputs": [
    {
     "name": "stderr",
     "output_type": "stream",
     "text": [
      "Using TensorFlow backend.\n"
     ]
    }
   ],
   "source": [
    "import os\n",
    "import time\n",
    "import sklearn\n",
    "import pickle\n",
    "import pydot\n",
    "\n",
    "import numpy as np\n",
    "import pandas as pd\n",
    "import matplotlib.pyplot as plt\n",
    "import seaborn as sns\n",
    "\n",
    "import torch.nn as nn\n",
    "import torch.optim as optim\n",
    "import torch.nn.functional as F\n",
    "from torch.utils.data import Dataset, DataLoader, WeightedRandomSampler\n",
    "from torch.autograd import Variable\n",
    "\n",
    "from sklearn.preprocessing import LabelEncoder, MinMaxScaler\n",
    "from sklearn import preprocessing\n",
    "from sklearn import model_selection\n",
    "from sklearn.linear_model import LogisticRegression\n",
    "from sklearn import metrics\n",
    "\n",
    "from keras.models import Sequential\n",
    "from keras.layers import Dense\n",
    "from keras.utils.vis_utils import plot_model\n",
    "\n",
    "from helpers import*"
   ]
  },
  {
   "cell_type": "code",
   "execution_count": 2,
   "metadata": {},
   "outputs": [],
   "source": [
    "df = pd.read_csv('bank-additional-full.csv', sep=';')\n",
    "data = build_spectrum (df,do_spectrum = True ,spect = 0.5)"
   ]
  },
  {
   "cell_type": "markdown",
   "metadata": {},
   "source": [
    "## Version 1"
   ]
  },
  {
   "cell_type": "code",
   "execution_count": 3,
   "metadata": {},
   "outputs": [
    {
     "name": "stdout",
     "output_type": "stream",
     "text": [
      "(41188, 64)\n"
     ]
    }
   ],
   "source": [
    "df2 = pd.get_dummies(df, columns=['job','marital','education','default', 'housing', 'loan', 'contact', 'month', 'day_of_week', 'poutcome'])\n",
    "print(df2.shape)"
   ]
  },
  {
   "cell_type": "code",
   "execution_count": 9,
   "metadata": {},
   "outputs": [],
   "source": [
    "df2['y'] = df2['y'].astype('category')"
   ]
  },
  {
   "cell_type": "markdown",
   "metadata": {},
   "source": [
    "## Version 2"
   ]
  },
  {
   "cell_type": "code",
   "execution_count": 4,
   "metadata": {},
   "outputs": [],
   "source": [
    "df3 = df.copy()"
   ]
  },
  {
   "cell_type": "code",
   "execution_count": 6,
   "metadata": {},
   "outputs": [],
   "source": [
    "le = preprocessing.LabelEncoder()"
   ]
  },
  {
   "cell_type": "code",
   "execution_count": 7,
   "metadata": {},
   "outputs": [],
   "source": [
    "df3.job = le.fit_transform(df3.job)\n",
    "df3.marital = le.fit_transform(df3.marital)\n",
    "df3.education = le.fit_transform(df3.education)\n",
    "df3.default = le.fit_transform(df3.default)\n",
    "df3.housing = le.fit_transform(df3.housing)\n",
    "df3.loan = le.fit_transform(df3.loan)\n",
    "df3.contact = le.fit_transform(df3.contact)\n",
    "df3.month = le.fit_transform(df3.month)\n",
    "df3.day_of_week = le.fit_transform(df3.day_of_week)\n",
    "df3.poutcome = le.fit_transform(df3.poutcome)"
   ]
  },
  {
   "cell_type": "code",
   "execution_count": 8,
   "metadata": {},
   "outputs": [],
   "source": [
    "df3['y'] = df3.y.map(dict(yes=1, no=0))"
   ]
  },
  {
   "cell_type": "code",
   "execution_count": 23,
   "metadata": {},
   "outputs": [
    {
     "data": {
      "image/png": "[encoded data removed]",
      "text/plain": [
       "<Figure size 432x288 with 1 Axes>"
      ]
     },
     "metadata": {
      "needs_background": "light"
     },
     "output_type": "display_data"
    }
   ],
   "source": [
    "sns.countplot(y='y', data=df3);"
   ]
  },
  {
   "cell_type": "code",
   "execution_count": 24,
   "metadata": {},
   "outputs": [
    {
     "data": {
      "text/html": [
       "<div>\n",
       "<style scoped>\n",
       "    .dataframe tbody tr th:only-of-type {\n",
       "        vertical-align: middle;\n",
       "    }\n",
       "\n",
       "    .dataframe tbody tr th {\n",
       "        vertical-align: top;\n",
       "    }\n",
       "\n",
       "    .dataframe thead th {\n",
       "        text-align: right;\n",
       "    }\n",
       "</style>\n",
       "<table border=\"1\" class=\"dataframe\">\n",
       "  <thead>\n",
       "    <tr style=\"text-align: right;\">\n",
       "      <th></th>\n",
       "      <th>age</th>\n",
       "      <th>job</th>\n",
       "      <th>marital</th>\n",
       "      <th>education</th>\n",
       "      <th>default</th>\n",
       "      <th>housing</th>\n",
       "      <th>loan</th>\n",
       "      <th>contact</th>\n",
       "      <th>month</th>\n",
       "      <th>day_of_week</th>\n",
       "      <th>...</th>\n",
       "      <th>campaign</th>\n",
       "      <th>pdays</th>\n",
       "      <th>previous</th>\n",
       "      <th>poutcome</th>\n",
       "      <th>emp.var.rate</th>\n",
       "      <th>cons.price.idx</th>\n",
       "      <th>cons.conf.idx</th>\n",
       "      <th>euribor3m</th>\n",
       "      <th>nr.employed</th>\n",
       "      <th>y</th>\n",
       "    </tr>\n",
       "  </thead>\n",
       "  <tbody>\n",
       "    <tr>\n",
       "      <th>0</th>\n",
       "      <td>56</td>\n",
       "      <td>3</td>\n",
       "      <td>1</td>\n",
       "      <td>0</td>\n",
       "      <td>0</td>\n",
       "      <td>0</td>\n",
       "      <td>0</td>\n",
       "      <td>1</td>\n",
       "      <td>6</td>\n",
       "      <td>1</td>\n",
       "      <td>...</td>\n",
       "      <td>1</td>\n",
       "      <td>999</td>\n",
       "      <td>0</td>\n",
       "      <td>1</td>\n",
       "      <td>1.1</td>\n",
       "      <td>93.994</td>\n",
       "      <td>-36.4</td>\n",
       "      <td>4.857</td>\n",
       "      <td>5191.0</td>\n",
       "      <td>0</td>\n",
       "    </tr>\n",
       "    <tr>\n",
       "      <th>1</th>\n",
       "      <td>57</td>\n",
       "      <td>7</td>\n",
       "      <td>1</td>\n",
       "      <td>3</td>\n",
       "      <td>1</td>\n",
       "      <td>0</td>\n",
       "      <td>0</td>\n",
       "      <td>1</td>\n",
       "      <td>6</td>\n",
       "      <td>1</td>\n",
       "      <td>...</td>\n",
       "      <td>1</td>\n",
       "      <td>999</td>\n",
       "      <td>0</td>\n",
       "      <td>1</td>\n",
       "      <td>1.1</td>\n",
       "      <td>93.994</td>\n",
       "      <td>-36.4</td>\n",
       "      <td>4.857</td>\n",
       "      <td>5191.0</td>\n",
       "      <td>0</td>\n",
       "    </tr>\n",
       "    <tr>\n",
       "      <th>2</th>\n",
       "      <td>37</td>\n",
       "      <td>7</td>\n",
       "      <td>1</td>\n",
       "      <td>3</td>\n",
       "      <td>0</td>\n",
       "      <td>2</td>\n",
       "      <td>0</td>\n",
       "      <td>1</td>\n",
       "      <td>6</td>\n",
       "      <td>1</td>\n",
       "      <td>...</td>\n",
       "      <td>1</td>\n",
       "      <td>999</td>\n",
       "      <td>0</td>\n",
       "      <td>1</td>\n",
       "      <td>1.1</td>\n",
       "      <td>93.994</td>\n",
       "      <td>-36.4</td>\n",
       "      <td>4.857</td>\n",
       "      <td>5191.0</td>\n",
       "      <td>0</td>\n",
       "    </tr>\n",
       "    <tr>\n",
       "      <th>3</th>\n",
       "      <td>40</td>\n",
       "      <td>0</td>\n",
       "      <td>1</td>\n",
       "      <td>1</td>\n",
       "      <td>0</td>\n",
       "      <td>0</td>\n",
       "      <td>0</td>\n",
       "      <td>1</td>\n",
       "      <td>6</td>\n",
       "      <td>1</td>\n",
       "      <td>...</td>\n",
       "      <td>1</td>\n",
       "      <td>999</td>\n",
       "      <td>0</td>\n",
       "      <td>1</td>\n",
       "      <td>1.1</td>\n",
       "      <td>93.994</td>\n",
       "      <td>-36.4</td>\n",
       "      <td>4.857</td>\n",
       "      <td>5191.0</td>\n",
       "      <td>0</td>\n",
       "    </tr>\n",
       "    <tr>\n",
       "      <th>4</th>\n",
       "      <td>56</td>\n",
       "      <td>7</td>\n",
       "      <td>1</td>\n",
       "      <td>3</td>\n",
       "      <td>0</td>\n",
       "      <td>0</td>\n",
       "      <td>2</td>\n",
       "      <td>1</td>\n",
       "      <td>6</td>\n",
       "      <td>1</td>\n",
       "      <td>...</td>\n",
       "      <td>1</td>\n",
       "      <td>999</td>\n",
       "      <td>0</td>\n",
       "      <td>1</td>\n",
       "      <td>1.1</td>\n",
       "      <td>93.994</td>\n",
       "      <td>-36.4</td>\n",
       "      <td>4.857</td>\n",
       "      <td>5191.0</td>\n",
       "      <td>0</td>\n",
       "    </tr>\n",
       "  </tbody>\n",
       "</table>\n",
       "<p>5 rows × 21 columns</p>\n",
       "</div>"
      ],
      "text/plain": [
       "   age  job  marital  education  default  housing  loan  contact  month  \\\n",
       "0   56    3        1          0        0        0     0        1      6   \n",
       "1   57    7        1          3        1        0     0        1      6   \n",
       "2   37    7        1          3        0        2     0        1      6   \n",
       "3   40    0        1          1        0        0     0        1      6   \n",
       "4   56    7        1          3        0        0     2        1      6   \n",
       "\n",
       "   day_of_week  ...  campaign  pdays  previous  poutcome  emp.var.rate  \\\n",
       "0            1  ...         1    999         0         1           1.1   \n",
       "1            1  ...         1    999         0         1           1.1   \n",
       "2            1  ...         1    999         0         1           1.1   \n",
       "3            1  ...         1    999         0         1           1.1   \n",
       "4            1  ...         1    999         0         1           1.1   \n",
       "\n",
       "   cons.price.idx  cons.conf.idx  euribor3m  nr.employed  y  \n",
       "0          93.994          -36.4      4.857       5191.0  0  \n",
       "1          93.994          -36.4      4.857       5191.0  0  \n",
       "2          93.994          -36.4      4.857       5191.0  0  \n",
       "3          93.994          -36.4      4.857       5191.0  0  \n",
       "4          93.994          -36.4      4.857       5191.0  0  \n",
       "\n",
       "[5 rows x 21 columns]"
      ]
     },
     "execution_count": 24,
     "metadata": {},
     "output_type": "execute_result"
    }
   ],
   "source": [
    "df3.head()"
   ]
  },
  {
   "cell_type": "code",
   "execution_count": 9,
   "metadata": {},
   "outputs": [],
   "source": [
    "X = df3.iloc[:,0:19]\n",
    "y = df3.iloc[:,20]"
   ]
  },
  {
   "cell_type": "markdown",
   "metadata": {},
   "source": [
    "# SKLEARN"
   ]
  },
  {
   "cell_type": "code",
   "execution_count": 26,
   "metadata": {},
   "outputs": [],
   "source": [
    "x_train, x_test, y_train, y_test = model_selection.train_test_split(X, y, test_size=0.2, random_state=0) #80/20 split"
   ]
  },
  {
   "cell_type": "code",
   "execution_count": 27,
   "metadata": {},
   "outputs": [
    {
     "data": {
      "text/plain": [
       "((32950, 19), (32950,))"
      ]
     },
     "execution_count": 27,
     "metadata": {},
     "output_type": "execute_result"
    }
   ],
   "source": [
    "x_train.shape, y_train.shape"
   ]
  },
  {
   "cell_type": "code",
   "execution_count": 29,
   "metadata": {},
   "outputs": [
    {
     "data": {
      "text/plain": [
       "((8238, 19), (8238,))"
      ]
     },
     "execution_count": 29,
     "metadata": {},
     "output_type": "execute_result"
    }
   ],
   "source": [
    "x_test.shape, y_test.shape"
   ]
  },
  {
   "cell_type": "code",
   "execution_count": 11,
   "metadata": {},
   "outputs": [],
   "source": [
    "model = Sequential()\n",
    "model.add(Dense(10, input_dim=19, activation='tanh'))\n",
    "model.add(Dense(1, activation='sigmoid'))"
   ]
  },
  {
   "cell_type": "code",
   "execution_count": 12,
   "metadata": {},
   "outputs": [
    {
     "name": "stdout",
     "output_type": "stream",
     "text": [
      "Model: \"sequential_1\"\n",
      "_________________________________________________________________\n",
      "Layer (type)                 Output Shape              Param #   \n",
      "=================================================================\n",
      "dense_1 (Dense)              (None, 10)                200       \n",
      "_________________________________________________________________\n",
      "dense_2 (Dense)              (None, 1)                 11        \n",
      "=================================================================\n",
      "Total params: 211\n",
      "Trainable params: 211\n",
      "Non-trainable params: 0\n",
      "_________________________________________________________________\n",
      "None\n"
     ]
    }
   ],
   "source": [
    "print(model.summary())"
   ]
  },
  {
   "cell_type": "code",
   "execution_count": 32,
   "metadata": {},
   "outputs": [
    {
     "data": {
      "image/png": "[encoded data removed]",
      "text/plain": [
       "<IPython.core.display.Image object>"
      ]
     },
     "execution_count": 32,
     "metadata": {},
     "output_type": "execute_result"
    }
   ],
   "source": [
    "plot_model(model, to_file='model_plot.png', show_shapes=True, show_layer_names=True)"
   ]
  },
  {
   "cell_type": "code",
   "execution_count": 14,
   "metadata": {},
   "outputs": [],
   "source": [
    "model.compile(loss='binary_crossentropy', optimizer='sgd', metrics=['accuracy'])"
   ]
  },
  {
   "cell_type": "code",
   "execution_count": 43,
   "metadata": {},
   "outputs": [],
   "source": [
    "x_train_keras = np.array(X)\n",
    "y_train_keras = np.array(y)\n",
    "y_train_keras = y_train_keras.reshape(y_train_keras.shape[0], 1)"
   ]
  },
  {
   "cell_type": "code",
   "execution_count": 16,
   "metadata": {},
   "outputs": [
    {
     "name": "stdout",
     "output_type": "stream",
     "text": [
      "Train on 32950 samples, validate on 8238 samples\n",
      "Epoch 1/20\n",
      "32950/32950 [==============================] - 0s 13us/step - loss: 0.1664 - accuracy: 0.9357 - val_loss: 0.6665 - val_accuracy: 0.6888\n",
      "Epoch 2/20\n",
      "32950/32950 [==============================] - 0s 13us/step - loss: 0.1646 - accuracy: 0.9357 - val_loss: 0.7573 - val_accuracy: 0.6888\n",
      "Epoch 3/20\n",
      "32950/32950 [==============================] - 0s 15us/step - loss: 0.1657 - accuracy: 0.9357 - val_loss: 0.6950 - val_accuracy: 0.6894\n",
      "Epoch 4/20\n",
      "32950/32950 [==============================] - 1s 17us/step - loss: 0.1667 - accuracy: 0.9358 - val_loss: 0.6533 - val_accuracy: 0.6895\n",
      "Epoch 5/20\n",
      "32950/32950 [==============================] - 0s 13us/step - loss: 0.1663 - accuracy: 0.9360 - val_loss: 0.7476 - val_accuracy: 0.6902\n",
      "Epoch 6/20\n",
      "32950/32950 [==============================] - 0s 15us/step - loss: 0.1667 - accuracy: 0.9361 - val_loss: 0.7272 - val_accuracy: 0.6902\n",
      "Epoch 7/20\n",
      "32950/32950 [==============================] - 1s 21us/step - loss: 0.1676 - accuracy: 0.9352 - val_loss: 0.6666 - val_accuracy: 0.7490\n",
      "Epoch 8/20\n",
      "32950/32950 [==============================] - 1s 25us/step - loss: 0.1680 - accuracy: 0.9351 - val_loss: 0.6994 - val_accuracy: 0.7491\n",
      "Epoch 9/20\n",
      "32950/32950 [==============================] - 1s 20us/step - loss: 0.1638 - accuracy: 0.9356 - val_loss: 0.7421 - val_accuracy: 0.6908\n",
      "Epoch 10/20\n",
      "32950/32950 [==============================] - 1s 25us/step - loss: 0.1650 - accuracy: 0.9361 - val_loss: 0.7662 - val_accuracy: 0.7490\n",
      "Epoch 11/20\n",
      "32950/32950 [==============================] - 1s 24us/step - loss: 0.1657 - accuracy: 0.9351 - val_loss: 0.7828 - val_accuracy: 0.7490\n",
      "Epoch 12/20\n",
      "32950/32950 [==============================] - 1s 18us/step - loss: 0.1639 - accuracy: 0.9373 - val_loss: 0.7159 - val_accuracy: 0.7576\n",
      "Epoch 13/20\n",
      "32950/32950 [==============================] - 1s 19us/step - loss: 0.1653 - accuracy: 0.9397 - val_loss: 0.7678 - val_accuracy: 0.7541\n",
      "Epoch 14/20\n",
      "32950/32950 [==============================] - 1s 18us/step - loss: 0.1643 - accuracy: 0.9355 - val_loss: 0.7602 - val_accuracy: 0.7609\n",
      "Epoch 15/20\n",
      "32950/32950 [==============================] - 1s 21us/step - loss: 0.1641 - accuracy: 0.9369 - val_loss: 0.7284 - val_accuracy: 0.7493\n",
      "Epoch 16/20\n",
      "32950/32950 [==============================] - 1s 21us/step - loss: 0.1654 - accuracy: 0.9359 - val_loss: 0.7550 - val_accuracy: 0.6909\n",
      "Epoch 17/20\n",
      "32950/32950 [==============================] - 1s 17us/step - loss: 0.1666 - accuracy: 0.9362 - val_loss: 0.6110 - val_accuracy: 0.6907\n",
      "Epoch 18/20\n",
      "32950/32950 [==============================] - 0s 15us/step - loss: 0.1664 - accuracy: 0.9362 - val_loss: 0.7177 - val_accuracy: 0.6909\n",
      "Epoch 19/20\n",
      "32950/32950 [==============================] - 0s 15us/step - loss: 0.1653 - accuracy: 0.9362 - val_loss: 0.7367 - val_accuracy: 0.6907\n",
      "Epoch 20/20\n",
      "32950/32950 [==============================] - 1s 16us/step - loss: 0.1653 - accuracy: 0.9362 - val_loss: 0.7232 - val_accuracy: 0.6907\n"
     ]
    },
    {
     "data": {
      "image/png": "[encoded data removed]",
      "text/plain": [
       "<Figure size 432x288 with 1 Axes>"
      ]
     },
     "metadata": {
      "needs_background": "light"
     },
     "output_type": "display_data"
    },
    {
     "data": {
      "image/png": "[encoded data removed]",
      "text/plain": [
       "<Figure size 432x288 with 1 Axes>"
      ]
     },
     "metadata": {
      "needs_background": "light"
     },
     "output_type": "display_data"
    }
   ],
   "source": [
    "build_plot_loss_accuracy(X, y, model, epochs = 20)"
   ]
  },
  {
   "cell_type": "code",
   "execution_count": 39,
   "metadata": {},
   "outputs": [
    {
     "data": {
      "text/plain": [
       "[0.89799696,\n",
       " 0.8981184,\n",
       " 0.8981184,\n",
       " 0.8979666,\n",
       " 0.89805764,\n",
       " 0.89790595,\n",
       " 0.8979363,\n",
       " 0.8979363,\n",
       " 0.8979666,\n",
       " 0.89823973]"
      ]
     },
     "execution_count": 39,
     "metadata": {},
     "output_type": "execute_result"
    }
   ],
   "source": [
    "history.history['accuracy']\n"
   ]
  },
  {
   "cell_type": "code",
   "execution_count": 36,
   "metadata": {},
   "outputs": [
    {
     "name": "stdout",
     "output_type": "stream",
     "text": [
      "8238/8238 [==============================] - 0s 26us/step\n",
      "\n",
      " final accuracy: 89.85%\n"
     ]
    }
   ],
   "source": [
    "scores = model.evaluate(np.array(x_test), np.array(y_test))\n",
    "print(\"\\n final accuracy: %.2f%%\" % (scores[1]*100))"
   ]
  },
  {
   "cell_type": "markdown",
   "metadata": {},
   "source": [
    "# Benchmarking"
   ]
  },
  {
   "cell_type": "code",
   "execution_count": 35,
   "metadata": {},
   "outputs": [],
   "source": [
    "list_optimzers = ['adam', 'sgd', 'RMSprop', 'Adagrad', 'Adamax', 'Nadam']"
   ]
  },
  {
   "cell_type": "code",
   "execution_count": 38,
   "metadata": {},
   "outputs": [
    {
     "name": "stdout",
     "output_type": "stream",
     "text": [
      "8238/8238 [==============================] - 0s 22us/step\n",
      "\n",
      " final accuracy for adam optimizer:  90.47%\n",
      "8238/8238 [==============================] - 0s 18us/step\n",
      "\n",
      " final accuracy for sgd optimizer:  89.78%\n",
      "8238/8238 [==============================] - 0s 21us/step\n",
      "\n",
      " final accuracy for RMSprop optimizer:  90.84%\n",
      "8238/8238 [==============================] - 0s 19us/step\n",
      "\n",
      " final accuracy for Adagrad optimizer:  90.98%\n",
      "8238/8238 [==============================] - 0s 19us/step\n",
      "\n",
      " final accuracy for Adamax optimizer:  90.99%\n",
      "8238/8238 [==============================] - 0s 18us/step\n",
      "\n",
      " final accuracy for Nadam optimizer:  90.88%\n"
     ]
    }
   ],
   "source": [
    "for l in list_optimzers:\n",
    "    model.compile(loss='binary_crossentropy', optimizer=l, metrics=['accuracy'])\n",
    "    model.fit(np.array(x_train_keras), np.array(y_train_keras), epochs=10, batch_size=128, shuffle=True, verbose=0)\n",
    "    scores = model.evaluate(np.array(x_test), np.array(y_test))\n",
    "    print(\"\\n final accuracy for %s optimizer:  %.2f%%\" % (l,scores[1]*100))"
   ]
  },
  {
   "cell_type": "code",
   "execution_count": 39,
   "metadata": {},
   "outputs": [
    {
     "name": "stdout",
     "output_type": "stream",
     "text": [
      "8238/8238 [==============================] - 0s 20us/step\n",
      "\n",
      " final accuracy for Nadam optimizer:  90.88%\n"
     ]
    }
   ],
   "source": [
    "from keras_radam import RAdam\n",
    "\n",
    "model.compile(loss='binary_crossentropy', optimizer=RAdam(), metrics=['accuracy'])\n",
    "model.fit(np.array(x_train_keras), np.array(y_train_keras), epochs=10, batch_size=128, shuffle=True, verbose=0)\n",
    "scores = model.evaluate(np.array(x_test), np.array(y_test))\n",
    "print(\"\\n final accuracy for %s optimizer:  %.2f%%\" % (l,scores[1]*100))"
   ]
  },
  {
   "cell_type": "markdown",
   "metadata": {},
   "source": [
    "# TORCH"
   ]
  },
  {
   "cell_type": "code",
   "execution_count": 33,
   "metadata": {},
   "outputs": [],
   "source": [
    "x_train, x_test, y_train, y_test = model_selection.train_test_split(X, y, test_size=0.2, random_state=0) #80/20 split"
   ]
  },
  {
   "cell_type": "code",
   "execution_count": 43,
   "metadata": {},
   "outputs": [],
   "source": [
    "x_train_torch = torch.tensor(x_train.values)\n",
    "x_test_torch = torch.tensor(x_test.values)\n",
    "\n",
    "y_train_torch = y_train.values\n",
    "y_train_torch = y_train_torch.reshape(y_train_torch.shape[0], 1)\n",
    "y_train_torch = torch.tensor(y_train_torch)\n",
    "\n",
    "y_test_torch = y_test.values\n",
    "y_test_torch = y_test_torch.reshape(y_test_torch.shape[0], 1)\n",
    "y_test_torch = torch.tensor(y_test_torch)"
   ]
  },
  {
   "cell_type": "code",
   "execution_count": 44,
   "metadata": {},
   "outputs": [],
   "source": [
    "x_train_t = torch.from_numpy(x_train.to_numpy()).float()\n",
    "y_train_t = torch.squeeze(torch.from_numpy(y_train.to_numpy()).float())\n",
    "\n",
    "x_test_t = torch.from_numpy(x_test.to_numpy()).float()\n",
    "y_test_t = torch.squeeze(torch.from_numpy(y_test.to_numpy()).float())"
   ]
  },
  {
   "cell_type": "code",
   "execution_count": 45,
   "metadata": {},
   "outputs": [
    {
     "name": "stdout",
     "output_type": "stream",
     "text": [
      "torch.Size([32950, 19]) torch.Size([32950])\n",
      "torch.Size([8238, 19]) torch.Size([8238])\n"
     ]
    }
   ],
   "source": [
    "print(x_train_t.shape, y_train_t.shape)\n",
    "print(x_test_t.shape, y_test_t.shape)"
   ]
  },
  {
   "cell_type": "code",
   "execution_count": 46,
   "metadata": {},
   "outputs": [
    {
     "data": {
      "text/plain": [
       "torch.Size([32950, 1])"
      ]
     },
     "execution_count": 46,
     "metadata": {},
     "output_type": "execute_result"
    }
   ],
   "source": [
    "y_train_torch.size()"
   ]
  },
  {
   "cell_type": "code",
   "execution_count": 47,
   "metadata": {},
   "outputs": [
    {
     "data": {
      "text/plain": [
       "torch.Size([32950, 19])"
      ]
     },
     "execution_count": 47,
     "metadata": {},
     "output_type": "execute_result"
    }
   ],
   "source": [
    "x_train_torch.size()"
   ]
  },
  {
   "cell_type": "code",
   "execution_count": 34,
   "metadata": {},
   "outputs": [],
   "source": [
    "class Net(nn.Module):\n",
    "    \n",
    "    def __init__(self):\n",
    "        super().__init__()\n",
    "        self.fc1 = nn.Linear(19, 10)\n",
    "        self.tanh1 = nn.Tanh()\n",
    "        self.out = nn.Linear(10, 1)\n",
    "        self.out_act = nn.Sigmoid()\n",
    "        \n",
    "    def forward(self, input_):\n",
    "        a1 = self.fc1(input_)\n",
    "        h1 = self.tanh1(a1)\n",
    "        a2 = self.out(h1)\n",
    "        y = self.out_act(a2)\n",
    "        y = a2\n",
    "        return y"
   ]
  },
  {
   "cell_type": "code",
   "execution_count": 62,
   "metadata": {},
   "outputs": [],
   "source": [
    "net = Net()\n",
    "opt = optim.Adam(net.parameters(), lr=0.001)\n",
    "optimizer = optim.Adam(net.parameters(), lr=0.001)\n",
    "criterion = nn.CrossEntropyLoss()"
   ]
  },
  {
   "cell_type": "markdown",
   "metadata": {},
   "source": [
    "# Questions for group :\n",
    "    \n",
    "- why didnt we use the full version of the dataset ?\n",
    "- https://scikit-learn.org/stable/modules/generated/sklearn.preprocessing.LabelEncoder.html"
   ]
  }
 ],
 "metadata": {
  "kernelspec": {
   "display_name": "Python 3",
   "language": "python",
   "name": "python3"
  },
  "language_info": {
   "codemirror_mode": {
    "name": "ipython",
    "version": 3
   },
   "file_extension": ".py",
   "mimetype": "text/x-python",
   "name": "python",
   "nbconvert_exporter": "python",
   "pygments_lexer": "ipython3",
   "version": "3.7.6"
  }
 },
 "nbformat": 4,
 "nbformat_minor": 4
}
